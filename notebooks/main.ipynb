{
 "cells": [
  {
   "cell_type": "code",
   "execution_count": 1,
   "id": "30b91237-2766-43c2-9201-6b49262c61dd",
   "metadata": {},
   "outputs": [
    {
     "name": "stdout",
     "output_type": "stream",
     "text": [
      "Python 3.10.12\n"
     ]
    }
   ],
   "source": [
    "!python3 --version"
   ]
  },
  {
   "cell_type": "markdown",
   "id": "74b9105b-8b3f-4477-a919-ca103305c9a5",
   "metadata": {},
   "source": [
    "### 🚗 Used Car Price Prediction"
   ]
  },
  {
   "cell_type": "markdown",
   "id": "96c195f1-984e-4fa4-bc74-e4f3abcf196e",
   "metadata": {},
   "source": [
    "Data from - https://www.kaggle.com/datasets/austinreese/craigslist-carstrucks-data"
   ]
  },
  {
   "cell_type": "markdown",
   "id": "2a398838-fca9-45df-8582-da89fae8517d",
   "metadata": {
    "jp-MarkdownHeadingCollapsed": true
   },
   "source": [
    "#### 👋 Introduction"
   ]
  },
  {
   "cell_type": "markdown",
   "id": "def5dce6-e61c-455c-9c1d-9fa56b2e16d5",
   "metadata": {},
   "source": [
    "So called Second hand's car have a huge market base. Many consider to buy a Used Car intsead of buying of new one, as it's is feasible and a better investment.\n",
    "\n",
    "The main reason for this huge market is that when you buy a New Car and sale it just another day without any default on it, the price of car reduces by 30%.\n",
    "\n",
    "There are also many frauds in the market who not only sale wrong but also they could mislead to wrong price.\n",
    "\n",
    "\n"
   ]
  },
  {
   "cell_type": "markdown",
   "id": "f35c5780-8b13-418d-ac4e-be0e27549589",
   "metadata": {
    "jp-MarkdownHeadingCollapsed": true
   },
   "source": [
    "#### 💻 Import Necessary Libraries and Load Data"
   ]
  },
  {
   "cell_type": "code",
   "execution_count": 2,
   "id": "03981438-57ed-4f28-a15e-3e0be6e5e79f",
   "metadata": {},
   "outputs": [],
   "source": [
    "import pandas as pd\n",
    "import numpy as np\n",
    "import matplotlib.pyplot as plt\n",
    "import seaborn as sns\n",
    "sns.set(style=\"darkgrid\")"
   ]
  },
  {
   "cell_type": "code",
   "execution_count": 53,
   "id": "627c238c-42b3-415d-a965-9061681c3c97",
   "metadata": {},
   "outputs": [],
   "source": [
    "import warnings\n",
    "warnings.filterwarnings(\"ignore\", category=FutureWarning)"
   ]
  },
  {
   "cell_type": "code",
   "execution_count": 3,
   "id": "0015e916-37cb-44ea-aa33-3b402d2a0adb",
   "metadata": {},
   "outputs": [],
   "source": [
    "car_df = pd.read_csv(\"../data/vehicles.csv\")"
   ]
  },
  {
   "cell_type": "code",
   "execution_count": 4,
   "id": "39c9956d-6ca8-48c8-8850-609f302ea9af",
   "metadata": {},
   "outputs": [
    {
     "data": {
      "text/html": [
       "<div>\n",
       "<style scoped>\n",
       "    .dataframe tbody tr th:only-of-type {\n",
       "        vertical-align: middle;\n",
       "    }\n",
       "\n",
       "    .dataframe tbody tr th {\n",
       "        vertical-align: top;\n",
       "    }\n",
       "\n",
       "    .dataframe thead th {\n",
       "        text-align: right;\n",
       "    }\n",
       "</style>\n",
       "<table border=\"1\" class=\"dataframe\">\n",
       "  <thead>\n",
       "    <tr style=\"text-align: right;\">\n",
       "      <th></th>\n",
       "      <th>id</th>\n",
       "      <th>url</th>\n",
       "      <th>region</th>\n",
       "      <th>region_url</th>\n",
       "      <th>price</th>\n",
       "      <th>year</th>\n",
       "      <th>manufacturer</th>\n",
       "      <th>model</th>\n",
       "      <th>condition</th>\n",
       "      <th>cylinders</th>\n",
       "      <th>...</th>\n",
       "      <th>size</th>\n",
       "      <th>type</th>\n",
       "      <th>paint_color</th>\n",
       "      <th>image_url</th>\n",
       "      <th>description</th>\n",
       "      <th>county</th>\n",
       "      <th>state</th>\n",
       "      <th>lat</th>\n",
       "      <th>long</th>\n",
       "      <th>posting_date</th>\n",
       "    </tr>\n",
       "  </thead>\n",
       "  <tbody>\n",
       "    <tr>\n",
       "      <th>0</th>\n",
       "      <td>7222695916</td>\n",
       "      <td>https://prescott.craigslist.org/cto/d/prescott...</td>\n",
       "      <td>prescott</td>\n",
       "      <td>https://prescott.craigslist.org</td>\n",
       "      <td>6000</td>\n",
       "      <td>NaN</td>\n",
       "      <td>NaN</td>\n",
       "      <td>NaN</td>\n",
       "      <td>NaN</td>\n",
       "      <td>NaN</td>\n",
       "      <td>...</td>\n",
       "      <td>NaN</td>\n",
       "      <td>NaN</td>\n",
       "      <td>NaN</td>\n",
       "      <td>NaN</td>\n",
       "      <td>NaN</td>\n",
       "      <td>NaN</td>\n",
       "      <td>az</td>\n",
       "      <td>NaN</td>\n",
       "      <td>NaN</td>\n",
       "      <td>NaN</td>\n",
       "    </tr>\n",
       "    <tr>\n",
       "      <th>1</th>\n",
       "      <td>7218891961</td>\n",
       "      <td>https://fayar.craigslist.org/ctd/d/bentonville...</td>\n",
       "      <td>fayetteville</td>\n",
       "      <td>https://fayar.craigslist.org</td>\n",
       "      <td>11900</td>\n",
       "      <td>NaN</td>\n",
       "      <td>NaN</td>\n",
       "      <td>NaN</td>\n",
       "      <td>NaN</td>\n",
       "      <td>NaN</td>\n",
       "      <td>...</td>\n",
       "      <td>NaN</td>\n",
       "      <td>NaN</td>\n",
       "      <td>NaN</td>\n",
       "      <td>NaN</td>\n",
       "      <td>NaN</td>\n",
       "      <td>NaN</td>\n",
       "      <td>ar</td>\n",
       "      <td>NaN</td>\n",
       "      <td>NaN</td>\n",
       "      <td>NaN</td>\n",
       "    </tr>\n",
       "    <tr>\n",
       "      <th>2</th>\n",
       "      <td>7221797935</td>\n",
       "      <td>https://keys.craigslist.org/cto/d/summerland-k...</td>\n",
       "      <td>florida keys</td>\n",
       "      <td>https://keys.craigslist.org</td>\n",
       "      <td>21000</td>\n",
       "      <td>NaN</td>\n",
       "      <td>NaN</td>\n",
       "      <td>NaN</td>\n",
       "      <td>NaN</td>\n",
       "      <td>NaN</td>\n",
       "      <td>...</td>\n",
       "      <td>NaN</td>\n",
       "      <td>NaN</td>\n",
       "      <td>NaN</td>\n",
       "      <td>NaN</td>\n",
       "      <td>NaN</td>\n",
       "      <td>NaN</td>\n",
       "      <td>fl</td>\n",
       "      <td>NaN</td>\n",
       "      <td>NaN</td>\n",
       "      <td>NaN</td>\n",
       "    </tr>\n",
       "    <tr>\n",
       "      <th>3</th>\n",
       "      <td>7222270760</td>\n",
       "      <td>https://worcester.craigslist.org/cto/d/west-br...</td>\n",
       "      <td>worcester / central MA</td>\n",
       "      <td>https://worcester.craigslist.org</td>\n",
       "      <td>1500</td>\n",
       "      <td>NaN</td>\n",
       "      <td>NaN</td>\n",
       "      <td>NaN</td>\n",
       "      <td>NaN</td>\n",
       "      <td>NaN</td>\n",
       "      <td>...</td>\n",
       "      <td>NaN</td>\n",
       "      <td>NaN</td>\n",
       "      <td>NaN</td>\n",
       "      <td>NaN</td>\n",
       "      <td>NaN</td>\n",
       "      <td>NaN</td>\n",
       "      <td>ma</td>\n",
       "      <td>NaN</td>\n",
       "      <td>NaN</td>\n",
       "      <td>NaN</td>\n",
       "    </tr>\n",
       "    <tr>\n",
       "      <th>4</th>\n",
       "      <td>7210384030</td>\n",
       "      <td>https://greensboro.craigslist.org/cto/d/trinit...</td>\n",
       "      <td>greensboro</td>\n",
       "      <td>https://greensboro.craigslist.org</td>\n",
       "      <td>4900</td>\n",
       "      <td>NaN</td>\n",
       "      <td>NaN</td>\n",
       "      <td>NaN</td>\n",
       "      <td>NaN</td>\n",
       "      <td>NaN</td>\n",
       "      <td>...</td>\n",
       "      <td>NaN</td>\n",
       "      <td>NaN</td>\n",
       "      <td>NaN</td>\n",
       "      <td>NaN</td>\n",
       "      <td>NaN</td>\n",
       "      <td>NaN</td>\n",
       "      <td>nc</td>\n",
       "      <td>NaN</td>\n",
       "      <td>NaN</td>\n",
       "      <td>NaN</td>\n",
       "    </tr>\n",
       "  </tbody>\n",
       "</table>\n",
       "<p>5 rows × 26 columns</p>\n",
       "</div>"
      ],
      "text/plain": [
       "           id                                                url  \\\n",
       "0  7222695916  https://prescott.craigslist.org/cto/d/prescott...   \n",
       "1  7218891961  https://fayar.craigslist.org/ctd/d/bentonville...   \n",
       "2  7221797935  https://keys.craigslist.org/cto/d/summerland-k...   \n",
       "3  7222270760  https://worcester.craigslist.org/cto/d/west-br...   \n",
       "4  7210384030  https://greensboro.craigslist.org/cto/d/trinit...   \n",
       "\n",
       "                   region                         region_url  price  year  \\\n",
       "0                prescott    https://prescott.craigslist.org   6000   NaN   \n",
       "1            fayetteville       https://fayar.craigslist.org  11900   NaN   \n",
       "2            florida keys        https://keys.craigslist.org  21000   NaN   \n",
       "3  worcester / central MA   https://worcester.craigslist.org   1500   NaN   \n",
       "4              greensboro  https://greensboro.craigslist.org   4900   NaN   \n",
       "\n",
       "  manufacturer model condition cylinders  ... size  type paint_color  \\\n",
       "0          NaN   NaN       NaN       NaN  ...  NaN   NaN         NaN   \n",
       "1          NaN   NaN       NaN       NaN  ...  NaN   NaN         NaN   \n",
       "2          NaN   NaN       NaN       NaN  ...  NaN   NaN         NaN   \n",
       "3          NaN   NaN       NaN       NaN  ...  NaN   NaN         NaN   \n",
       "4          NaN   NaN       NaN       NaN  ...  NaN   NaN         NaN   \n",
       "\n",
       "  image_url description county state lat long posting_date  \n",
       "0       NaN         NaN    NaN    az NaN  NaN          NaN  \n",
       "1       NaN         NaN    NaN    ar NaN  NaN          NaN  \n",
       "2       NaN         NaN    NaN    fl NaN  NaN          NaN  \n",
       "3       NaN         NaN    NaN    ma NaN  NaN          NaN  \n",
       "4       NaN         NaN    NaN    nc NaN  NaN          NaN  \n",
       "\n",
       "[5 rows x 26 columns]"
      ]
     },
     "execution_count": 4,
     "metadata": {},
     "output_type": "execute_result"
    }
   ],
   "source": [
    "car_df.head()"
   ]
  },
  {
   "cell_type": "code",
   "execution_count": 5,
   "id": "984f0d1b-abe8-4724-868a-d3794f1b147c",
   "metadata": {},
   "outputs": [
    {
     "data": {
      "text/plain": [
       "(426880, 26)"
      ]
     },
     "execution_count": 5,
     "metadata": {},
     "output_type": "execute_result"
    }
   ],
   "source": [
    "car_df.shape"
   ]
  },
  {
   "cell_type": "markdown",
   "id": "fdc88b66-6cc9-4c6d-9f25-bb9ffefd57ca",
   "metadata": {},
   "source": [
    "There are almost 400,000 entries of cars listed on craigslist and have 26 attributes repreesenting the data"
   ]
  },
  {
   "cell_type": "code",
   "execution_count": 6,
   "id": "e6258b4a-331c-4bde-b77b-75bee9944f8e",
   "metadata": {},
   "outputs": [
    {
     "name": "stdout",
     "output_type": "stream",
     "text": [
      "<class 'pandas.core.frame.DataFrame'>\n",
      "RangeIndex: 426880 entries, 0 to 426879\n",
      "Data columns (total 26 columns):\n",
      " #   Column        Non-Null Count   Dtype  \n",
      "---  ------        --------------   -----  \n",
      " 0   id            426880 non-null  int64  \n",
      " 1   url           426880 non-null  object \n",
      " 2   region        426880 non-null  object \n",
      " 3   region_url    426880 non-null  object \n",
      " 4   price         426880 non-null  int64  \n",
      " 5   year          425675 non-null  float64\n",
      " 6   manufacturer  409234 non-null  object \n",
      " 7   model         421603 non-null  object \n",
      " 8   condition     252776 non-null  object \n",
      " 9   cylinders     249202 non-null  object \n",
      " 10  fuel          423867 non-null  object \n",
      " 11  odometer      422480 non-null  float64\n",
      " 12  title_status  418638 non-null  object \n",
      " 13  transmission  424324 non-null  object \n",
      " 14  VIN           265838 non-null  object \n",
      " 15  drive         296313 non-null  object \n",
      " 16  size          120519 non-null  object \n",
      " 17  type          334022 non-null  object \n",
      " 18  paint_color   296677 non-null  object \n",
      " 19  image_url     426812 non-null  object \n",
      " 20  description   426810 non-null  object \n",
      " 21  county        0 non-null       float64\n",
      " 22  state         426880 non-null  object \n",
      " 23  lat           420331 non-null  float64\n",
      " 24  long          420331 non-null  float64\n",
      " 25  posting_date  426812 non-null  object \n",
      "dtypes: float64(5), int64(2), object(19)\n",
      "memory usage: 84.7+ MB\n"
     ]
    }
   ],
   "source": [
    "car_df.info()"
   ]
  },
  {
   "cell_type": "markdown",
   "id": "81ac80ed-e2bd-48f6-9c60-e38b56eadae0",
   "metadata": {},
   "source": [
    "We get to know a lot from seeing this initial data.\n",
    "\n",
    "Upon the first look, we see that many columns do not give us any good info like the *id* and *url* column"
   ]
  },
  {
   "cell_type": "markdown",
   "id": "bc965fe5-9a88-4a77-86a4-91c7c100102d",
   "metadata": {
    "jp-MarkdownHeadingCollapsed": true
   },
   "source": [
    "#### 🧹 Data Cleaning"
   ]
  },
  {
   "cell_type": "markdown",
   "id": "6b8dfac4-a2a1-4cae-9fdf-89e621201aee",
   "metadata": {},
   "source": [
    "Before the data is even analyzed, it needs to be cleaned. This involves handling missing values, outliers, and other data issues."
   ]
  },
  {
   "cell_type": "code",
   "execution_count": 7,
   "id": "b7ba71dc-3f3b-4c49-b953-56c650b2f1e8",
   "metadata": {},
   "outputs": [],
   "source": [
    "drop_col = ['url', 'region_url', 'title_status', 'VIN', 'size', 'image_url', 'description', 'lat','long']"
   ]
  },
  {
   "cell_type": "markdown",
   "id": "b664587c-29fe-4d97-919b-09b26aae0b3b",
   "metadata": {},
   "source": [
    "We have selected a list of columns that we think can be removed.\n",
    "\n",
    "Although, lat and long can give some crucial information, we chose to remove them since it is out of the scope for a simple machine learning model we are tryna build."
   ]
  },
  {
   "cell_type": "code",
   "execution_count": 8,
   "id": "c42aa3e1-fd2b-4dab-a474-dcbc1bc3d31b",
   "metadata": {},
   "outputs": [],
   "source": [
    "car_df = car_df.drop(columns=drop_col)"
   ]
  },
  {
   "cell_type": "code",
   "execution_count": 9,
   "id": "e097a771-febe-4847-ab2c-9367a88ed8c9",
   "metadata": {},
   "outputs": [],
   "source": [
    "car_df = car_df.drop(columns=[\"id\"])"
   ]
  },
  {
   "cell_type": "code",
   "execution_count": 10,
   "id": "92c61d37-d6b3-4af6-bb88-8cbf1ae1353b",
   "metadata": {},
   "outputs": [
    {
     "data": {
      "text/html": [
       "<div>\n",
       "<style scoped>\n",
       "    .dataframe tbody tr th:only-of-type {\n",
       "        vertical-align: middle;\n",
       "    }\n",
       "\n",
       "    .dataframe tbody tr th {\n",
       "        vertical-align: top;\n",
       "    }\n",
       "\n",
       "    .dataframe thead th {\n",
       "        text-align: right;\n",
       "    }\n",
       "</style>\n",
       "<table border=\"1\" class=\"dataframe\">\n",
       "  <thead>\n",
       "    <tr style=\"text-align: right;\">\n",
       "      <th></th>\n",
       "      <th>region</th>\n",
       "      <th>price</th>\n",
       "      <th>year</th>\n",
       "      <th>manufacturer</th>\n",
       "      <th>model</th>\n",
       "      <th>condition</th>\n",
       "      <th>cylinders</th>\n",
       "      <th>fuel</th>\n",
       "      <th>odometer</th>\n",
       "      <th>transmission</th>\n",
       "      <th>drive</th>\n",
       "      <th>type</th>\n",
       "      <th>paint_color</th>\n",
       "      <th>county</th>\n",
       "      <th>state</th>\n",
       "      <th>posting_date</th>\n",
       "    </tr>\n",
       "  </thead>\n",
       "  <tbody>\n",
       "    <tr>\n",
       "      <th>0</th>\n",
       "      <td>prescott</td>\n",
       "      <td>6000</td>\n",
       "      <td>NaN</td>\n",
       "      <td>NaN</td>\n",
       "      <td>NaN</td>\n",
       "      <td>NaN</td>\n",
       "      <td>NaN</td>\n",
       "      <td>NaN</td>\n",
       "      <td>NaN</td>\n",
       "      <td>NaN</td>\n",
       "      <td>NaN</td>\n",
       "      <td>NaN</td>\n",
       "      <td>NaN</td>\n",
       "      <td>NaN</td>\n",
       "      <td>az</td>\n",
       "      <td>NaN</td>\n",
       "    </tr>\n",
       "    <tr>\n",
       "      <th>1</th>\n",
       "      <td>fayetteville</td>\n",
       "      <td>11900</td>\n",
       "      <td>NaN</td>\n",
       "      <td>NaN</td>\n",
       "      <td>NaN</td>\n",
       "      <td>NaN</td>\n",
       "      <td>NaN</td>\n",
       "      <td>NaN</td>\n",
       "      <td>NaN</td>\n",
       "      <td>NaN</td>\n",
       "      <td>NaN</td>\n",
       "      <td>NaN</td>\n",
       "      <td>NaN</td>\n",
       "      <td>NaN</td>\n",
       "      <td>ar</td>\n",
       "      <td>NaN</td>\n",
       "    </tr>\n",
       "    <tr>\n",
       "      <th>2</th>\n",
       "      <td>florida keys</td>\n",
       "      <td>21000</td>\n",
       "      <td>NaN</td>\n",
       "      <td>NaN</td>\n",
       "      <td>NaN</td>\n",
       "      <td>NaN</td>\n",
       "      <td>NaN</td>\n",
       "      <td>NaN</td>\n",
       "      <td>NaN</td>\n",
       "      <td>NaN</td>\n",
       "      <td>NaN</td>\n",
       "      <td>NaN</td>\n",
       "      <td>NaN</td>\n",
       "      <td>NaN</td>\n",
       "      <td>fl</td>\n",
       "      <td>NaN</td>\n",
       "    </tr>\n",
       "    <tr>\n",
       "      <th>3</th>\n",
       "      <td>worcester / central MA</td>\n",
       "      <td>1500</td>\n",
       "      <td>NaN</td>\n",
       "      <td>NaN</td>\n",
       "      <td>NaN</td>\n",
       "      <td>NaN</td>\n",
       "      <td>NaN</td>\n",
       "      <td>NaN</td>\n",
       "      <td>NaN</td>\n",
       "      <td>NaN</td>\n",
       "      <td>NaN</td>\n",
       "      <td>NaN</td>\n",
       "      <td>NaN</td>\n",
       "      <td>NaN</td>\n",
       "      <td>ma</td>\n",
       "      <td>NaN</td>\n",
       "    </tr>\n",
       "    <tr>\n",
       "      <th>4</th>\n",
       "      <td>greensboro</td>\n",
       "      <td>4900</td>\n",
       "      <td>NaN</td>\n",
       "      <td>NaN</td>\n",
       "      <td>NaN</td>\n",
       "      <td>NaN</td>\n",
       "      <td>NaN</td>\n",
       "      <td>NaN</td>\n",
       "      <td>NaN</td>\n",
       "      <td>NaN</td>\n",
       "      <td>NaN</td>\n",
       "      <td>NaN</td>\n",
       "      <td>NaN</td>\n",
       "      <td>NaN</td>\n",
       "      <td>nc</td>\n",
       "      <td>NaN</td>\n",
       "    </tr>\n",
       "  </tbody>\n",
       "</table>\n",
       "</div>"
      ],
      "text/plain": [
       "                   region  price  year manufacturer model condition cylinders  \\\n",
       "0                prescott   6000   NaN          NaN   NaN       NaN       NaN   \n",
       "1            fayetteville  11900   NaN          NaN   NaN       NaN       NaN   \n",
       "2            florida keys  21000   NaN          NaN   NaN       NaN       NaN   \n",
       "3  worcester / central MA   1500   NaN          NaN   NaN       NaN       NaN   \n",
       "4              greensboro   4900   NaN          NaN   NaN       NaN       NaN   \n",
       "\n",
       "  fuel  odometer transmission drive type paint_color  county state  \\\n",
       "0  NaN       NaN          NaN   NaN  NaN         NaN     NaN    az   \n",
       "1  NaN       NaN          NaN   NaN  NaN         NaN     NaN    ar   \n",
       "2  NaN       NaN          NaN   NaN  NaN         NaN     NaN    fl   \n",
       "3  NaN       NaN          NaN   NaN  NaN         NaN     NaN    ma   \n",
       "4  NaN       NaN          NaN   NaN  NaN         NaN     NaN    nc   \n",
       "\n",
       "  posting_date  \n",
       "0          NaN  \n",
       "1          NaN  \n",
       "2          NaN  \n",
       "3          NaN  \n",
       "4          NaN  "
      ]
     },
     "execution_count": 10,
     "metadata": {},
     "output_type": "execute_result"
    }
   ],
   "source": [
    "car_df.head()"
   ]
  },
  {
   "cell_type": "markdown",
   "id": "44869516-dc04-4579-baac-f9b0ed1cc1ba",
   "metadata": {},
   "source": [
    "The target variable we have to predict is the PRICE column."
   ]
  },
  {
   "cell_type": "code",
   "execution_count": 11,
   "id": "5f1892f9-bd04-40ba-b279-266624962a1f",
   "metadata": {},
   "outputs": [
    {
     "name": "stdout",
     "output_type": "stream",
     "text": [
      "<class 'pandas.core.frame.DataFrame'>\n",
      "RangeIndex: 426880 entries, 0 to 426879\n",
      "Data columns (total 16 columns):\n",
      " #   Column        Non-Null Count   Dtype  \n",
      "---  ------        --------------   -----  \n",
      " 0   region        426880 non-null  object \n",
      " 1   price         426880 non-null  int64  \n",
      " 2   year          425675 non-null  float64\n",
      " 3   manufacturer  409234 non-null  object \n",
      " 4   model         421603 non-null  object \n",
      " 5   condition     252776 non-null  object \n",
      " 6   cylinders     249202 non-null  object \n",
      " 7   fuel          423867 non-null  object \n",
      " 8   odometer      422480 non-null  float64\n",
      " 9   transmission  424324 non-null  object \n",
      " 10  drive         296313 non-null  object \n",
      " 11  type          334022 non-null  object \n",
      " 12  paint_color   296677 non-null  object \n",
      " 13  county        0 non-null       float64\n",
      " 14  state         426880 non-null  object \n",
      " 15  posting_date  426812 non-null  object \n",
      "dtypes: float64(3), int64(1), object(12)\n",
      "memory usage: 52.1+ MB\n"
     ]
    }
   ],
   "source": [
    "car_df.info()"
   ]
  },
  {
   "cell_type": "code",
   "execution_count": 12,
   "id": "bb63a3bd-5316-4238-b008-c8cf247a25c9",
   "metadata": {},
   "outputs": [],
   "source": [
    "car_df = car_df.drop(columns=[\"county\"])"
   ]
  },
  {
   "cell_type": "code",
   "execution_count": 13,
   "id": "5f1088f3-f388-4faa-91c6-ca951868fca2",
   "metadata": {},
   "outputs": [
    {
     "data": {
      "text/plain": [
       "(426880, 15)"
      ]
     },
     "execution_count": 13,
     "metadata": {},
     "output_type": "execute_result"
    }
   ],
   "source": [
    "car_df.shape"
   ]
  },
  {
   "cell_type": "code",
   "execution_count": 14,
   "id": "ffb537d6-9d7a-42b7-a491-43571d38cba3",
   "metadata": {},
   "outputs": [],
   "source": [
    "car_df = car_df.dropna()"
   ]
  },
  {
   "cell_type": "code",
   "execution_count": 15,
   "id": "92cb2fe7-c783-4629-8312-39cc1fa86d9a",
   "metadata": {},
   "outputs": [
    {
     "name": "stdout",
     "output_type": "stream",
     "text": [
      "<class 'pandas.core.frame.DataFrame'>\n",
      "Index: 115988 entries, 31 to 426878\n",
      "Data columns (total 15 columns):\n",
      " #   Column        Non-Null Count   Dtype  \n",
      "---  ------        --------------   -----  \n",
      " 0   region        115988 non-null  object \n",
      " 1   price         115988 non-null  int64  \n",
      " 2   year          115988 non-null  float64\n",
      " 3   manufacturer  115988 non-null  object \n",
      " 4   model         115988 non-null  object \n",
      " 5   condition     115988 non-null  object \n",
      " 6   cylinders     115988 non-null  object \n",
      " 7   fuel          115988 non-null  object \n",
      " 8   odometer      115988 non-null  float64\n",
      " 9   transmission  115988 non-null  object \n",
      " 10  drive         115988 non-null  object \n",
      " 11  type          115988 non-null  object \n",
      " 12  paint_color   115988 non-null  object \n",
      " 13  state         115988 non-null  object \n",
      " 14  posting_date  115988 non-null  object \n",
      "dtypes: float64(2), int64(1), object(12)\n",
      "memory usage: 14.2+ MB\n"
     ]
    }
   ],
   "source": [
    "car_df.info()"
   ]
  },
  {
   "cell_type": "markdown",
   "id": "e4af80ad-c6e2-4f36-aaf9-e8ef2a4f111b",
   "metadata": {},
   "source": [
    "We only know have a fourth of our original data after getting rid of the NAN's"
   ]
  },
  {
   "cell_type": "code",
   "execution_count": 16,
   "id": "4830edf6-4100-4fd7-a0e6-545939e4c6fb",
   "metadata": {},
   "outputs": [
    {
     "data": {
      "text/html": [
       "<div>\n",
       "<style scoped>\n",
       "    .dataframe tbody tr th:only-of-type {\n",
       "        vertical-align: middle;\n",
       "    }\n",
       "\n",
       "    .dataframe tbody tr th {\n",
       "        vertical-align: top;\n",
       "    }\n",
       "\n",
       "    .dataframe thead th {\n",
       "        text-align: right;\n",
       "    }\n",
       "</style>\n",
       "<table border=\"1\" class=\"dataframe\">\n",
       "  <thead>\n",
       "    <tr style=\"text-align: right;\">\n",
       "      <th></th>\n",
       "      <th>region</th>\n",
       "      <th>price</th>\n",
       "      <th>year</th>\n",
       "      <th>manufacturer</th>\n",
       "      <th>model</th>\n",
       "      <th>condition</th>\n",
       "      <th>cylinders</th>\n",
       "      <th>fuel</th>\n",
       "      <th>odometer</th>\n",
       "      <th>transmission</th>\n",
       "      <th>drive</th>\n",
       "      <th>type</th>\n",
       "      <th>paint_color</th>\n",
       "      <th>state</th>\n",
       "      <th>posting_date</th>\n",
       "    </tr>\n",
       "  </thead>\n",
       "  <tbody>\n",
       "    <tr>\n",
       "      <th>31</th>\n",
       "      <td>auburn</td>\n",
       "      <td>15000</td>\n",
       "      <td>2013.0</td>\n",
       "      <td>ford</td>\n",
       "      <td>f-150 xlt</td>\n",
       "      <td>excellent</td>\n",
       "      <td>6 cylinders</td>\n",
       "      <td>gas</td>\n",
       "      <td>128000.0</td>\n",
       "      <td>automatic</td>\n",
       "      <td>rwd</td>\n",
       "      <td>truck</td>\n",
       "      <td>black</td>\n",
       "      <td>al</td>\n",
       "      <td>2021-05-03T14:02:03-0500</td>\n",
       "    </tr>\n",
       "    <tr>\n",
       "      <th>32</th>\n",
       "      <td>auburn</td>\n",
       "      <td>27990</td>\n",
       "      <td>2012.0</td>\n",
       "      <td>gmc</td>\n",
       "      <td>sierra 2500 hd extended cab</td>\n",
       "      <td>good</td>\n",
       "      <td>8 cylinders</td>\n",
       "      <td>gas</td>\n",
       "      <td>68696.0</td>\n",
       "      <td>other</td>\n",
       "      <td>4wd</td>\n",
       "      <td>pickup</td>\n",
       "      <td>black</td>\n",
       "      <td>al</td>\n",
       "      <td>2021-05-03T13:41:25-0500</td>\n",
       "    </tr>\n",
       "    <tr>\n",
       "      <th>33</th>\n",
       "      <td>auburn</td>\n",
       "      <td>34590</td>\n",
       "      <td>2016.0</td>\n",
       "      <td>chevrolet</td>\n",
       "      <td>silverado 1500 double</td>\n",
       "      <td>good</td>\n",
       "      <td>6 cylinders</td>\n",
       "      <td>gas</td>\n",
       "      <td>29499.0</td>\n",
       "      <td>other</td>\n",
       "      <td>4wd</td>\n",
       "      <td>pickup</td>\n",
       "      <td>silver</td>\n",
       "      <td>al</td>\n",
       "      <td>2021-05-03T12:41:33-0500</td>\n",
       "    </tr>\n",
       "    <tr>\n",
       "      <th>34</th>\n",
       "      <td>auburn</td>\n",
       "      <td>35000</td>\n",
       "      <td>2019.0</td>\n",
       "      <td>toyota</td>\n",
       "      <td>tacoma</td>\n",
       "      <td>excellent</td>\n",
       "      <td>6 cylinders</td>\n",
       "      <td>gas</td>\n",
       "      <td>43000.0</td>\n",
       "      <td>automatic</td>\n",
       "      <td>4wd</td>\n",
       "      <td>truck</td>\n",
       "      <td>grey</td>\n",
       "      <td>al</td>\n",
       "      <td>2021-05-03T12:12:59-0500</td>\n",
       "    </tr>\n",
       "    <tr>\n",
       "      <th>35</th>\n",
       "      <td>auburn</td>\n",
       "      <td>29990</td>\n",
       "      <td>2016.0</td>\n",
       "      <td>chevrolet</td>\n",
       "      <td>colorado extended cab</td>\n",
       "      <td>good</td>\n",
       "      <td>6 cylinders</td>\n",
       "      <td>gas</td>\n",
       "      <td>17302.0</td>\n",
       "      <td>other</td>\n",
       "      <td>4wd</td>\n",
       "      <td>pickup</td>\n",
       "      <td>red</td>\n",
       "      <td>al</td>\n",
       "      <td>2021-05-03T11:31:14-0500</td>\n",
       "    </tr>\n",
       "  </tbody>\n",
       "</table>\n",
       "</div>"
      ],
      "text/plain": [
       "    region  price    year manufacturer                        model  \\\n",
       "31  auburn  15000  2013.0         ford                    f-150 xlt   \n",
       "32  auburn  27990  2012.0          gmc  sierra 2500 hd extended cab   \n",
       "33  auburn  34590  2016.0    chevrolet        silverado 1500 double   \n",
       "34  auburn  35000  2019.0       toyota                       tacoma   \n",
       "35  auburn  29990  2016.0    chevrolet        colorado extended cab   \n",
       "\n",
       "    condition    cylinders fuel  odometer transmission drive    type  \\\n",
       "31  excellent  6 cylinders  gas  128000.0    automatic   rwd   truck   \n",
       "32       good  8 cylinders  gas   68696.0        other   4wd  pickup   \n",
       "33       good  6 cylinders  gas   29499.0        other   4wd  pickup   \n",
       "34  excellent  6 cylinders  gas   43000.0    automatic   4wd   truck   \n",
       "35       good  6 cylinders  gas   17302.0        other   4wd  pickup   \n",
       "\n",
       "   paint_color state              posting_date  \n",
       "31       black    al  2021-05-03T14:02:03-0500  \n",
       "32       black    al  2021-05-03T13:41:25-0500  \n",
       "33      silver    al  2021-05-03T12:41:33-0500  \n",
       "34        grey    al  2021-05-03T12:12:59-0500  \n",
       "35         red    al  2021-05-03T11:31:14-0500  "
      ]
     },
     "execution_count": 16,
     "metadata": {},
     "output_type": "execute_result"
    }
   ],
   "source": [
    "car_df.head()"
   ]
  },
  {
   "cell_type": "markdown",
   "id": "1beb6e16-eb1c-4954-82f4-5b313835c9ce",
   "metadata": {},
   "source": [
    "#### 💻 EDA"
   ]
  },
  {
   "cell_type": "markdown",
   "id": "6595171c-ab3f-4b14-b448-230f84e17385",
   "metadata": {
    "jp-MarkdownHeadingCollapsed": true
   },
   "source": [
    "##### Price"
   ]
  },
  {
   "cell_type": "markdown",
   "id": "646b40f8-cf81-4e86-b6b7-87c83fa6b810",
   "metadata": {},
   "source": [
    "Since Price is the target variable let use see how price is distributed over the dataset"
   ]
  },
  {
   "cell_type": "code",
   "execution_count": 17,
   "id": "740762ac-9cda-4ee6-84f7-c93a65c360d3",
   "metadata": {},
   "outputs": [
    {
     "data": {
      "text/plain": [
       "3736928711"
      ]
     },
     "execution_count": 17,
     "metadata": {},
     "output_type": "execute_result"
    }
   ],
   "source": [
    "car_df[\"price\"].max()"
   ]
  },
  {
   "cell_type": "code",
   "execution_count": 18,
   "id": "6eeb29cc-c0ff-44ce-9201-5fee4973679c",
   "metadata": {},
   "outputs": [
    {
     "data": {
      "text/plain": [
       "0"
      ]
     },
     "execution_count": 18,
     "metadata": {},
     "output_type": "execute_result"
    }
   ],
   "source": [
    "car_df[\"price\"].min()"
   ]
  },
  {
   "cell_type": "markdown",
   "id": "b162b7d5-7400-4a1c-a213-d977021d4d5c",
   "metadata": {},
   "source": [
    "It appears that the minimum price for some cars is listed as 0, which could indicate that, due to a mistake, these cars were erroneously marked as being available at no cost. Let us now remove those rows."
   ]
  },
  {
   "cell_type": "code",
   "execution_count": 19,
   "id": "5727a17a-d554-41e0-b6ef-35a995e9f68b",
   "metadata": {},
   "outputs": [
    {
     "data": {
      "text/plain": [
       "(115988, 15)"
      ]
     },
     "execution_count": 19,
     "metadata": {},
     "output_type": "execute_result"
    }
   ],
   "source": [
    "car_df.shape"
   ]
  },
  {
   "cell_type": "code",
   "execution_count": 20,
   "id": "c1bb58b3-1b8b-4ea9-94eb-4be21ec8b647",
   "metadata": {},
   "outputs": [
    {
     "data": {
      "text/plain": [
       "(5365, 15)"
      ]
     },
     "execution_count": 20,
     "metadata": {},
     "output_type": "execute_result"
    }
   ],
   "source": [
    "car_df[car_df[\"price\"] < 100].shape"
   ]
  },
  {
   "cell_type": "code",
   "execution_count": 21,
   "id": "13cdb977-14b5-4c8a-a63d-15dcec80d41f",
   "metadata": {},
   "outputs": [],
   "source": [
    "car_df = car_df[car_df[\"price\"] >= 100]"
   ]
  },
  {
   "cell_type": "code",
   "execution_count": 22,
   "id": "4cc7e1d0-6509-449f-98e1-8d938ca34674",
   "metadata": {},
   "outputs": [
    {
     "data": {
      "text/plain": [
       "(110623, 15)"
      ]
     },
     "execution_count": 22,
     "metadata": {},
     "output_type": "execute_result"
    }
   ],
   "source": [
    "car_df.shape"
   ]
  },
  {
   "cell_type": "code",
   "execution_count": 23,
   "id": "38fde8dc-09a2-4646-8c6b-32a88a83e37b",
   "metadata": {},
   "outputs": [
    {
     "name": "stdout",
     "output_type": "stream",
     "text": [
      "Number of non-numeric values in 'price': 0\n"
     ]
    }
   ],
   "source": [
    "non_numeric_values = pd.to_numeric(car_df['price'], errors='coerce').isna().sum()\n",
    "\n",
    "print(f\"Number of non-numeric values in 'price': {non_numeric_values}\")"
   ]
  },
  {
   "cell_type": "code",
   "execution_count": 24,
   "id": "eb9182c2-7ec4-4aaf-a415-e1b51c6effdf",
   "metadata": {},
   "outputs": [
    {
     "name": "stdout",
     "output_type": "stream",
     "text": [
      "price\n",
      "<class 'int'>    110623\n",
      "Name: count, dtype: int64\n"
     ]
    }
   ],
   "source": [
    "data_types = car_df['price'].apply(type).value_counts()\n",
    "\n",
    "print(data_types)"
   ]
  },
  {
   "cell_type": "code",
   "execution_count": 31,
   "id": "89c12edf-fe82-4b55-b893-8d63b41e1763",
   "metadata": {},
   "outputs": [
    {
     "name": "stdout",
     "output_type": "stream",
     "text": [
      "count    1.106230e+05\n",
      "mean     6.361625e+04\n",
      "std      1.174040e+07\n",
      "min      1.000000e+02\n",
      "50%      1.190000e+04\n",
      "95%      3.999000e+04\n",
      "97%      4.499000e+04\n",
      "98%      4.890000e+04\n",
      "max      3.736929e+09\n",
      "Name: price, dtype: float64\n"
     ]
    }
   ],
   "source": [
    "print(car_df['price'].describe(percentiles=[0.95, 0.97, 0.98]))"
   ]
  },
  {
   "cell_type": "markdown",
   "id": "10b296c9-935f-42eb-a6bb-24ccf5227d39",
   "metadata": {},
   "source": [
    "1. **Extremely High Maximum Value**\n",
    "   - The maximum price is `3.736929e+09` (approximately 3.74 billion).\n",
    "   - This value is extraordinarily high for car prices and suggests outliers\n",
    "\n",
    "2. **Percentile Values**\n",
    "   - The 95th, 97th, and 98th percentile values are `3.999000e+04`, `4.499000e+04`, and `4.890000e+04`, respectively.\n",
    "   - These values are reasonable for high-end car prices but are much lower than the maximum value.\n",
    "   - It highlights that the extremely high maximum price is an outlier."
   ]
  },
  {
   "cell_type": "markdown",
   "id": "de1991c9-c05c-421d-8469-50c460a1b7a2",
   "metadata": {},
   "source": [
    "We now remove these outliers too"
   ]
  },
  {
   "cell_type": "code",
   "execution_count": 40,
   "id": "7988fc2d-4f2d-42cf-afb7-e8f1595fc155",
   "metadata": {},
   "outputs": [
    {
     "data": {
      "text/html": [
       "<div>\n",
       "<style scoped>\n",
       "    .dataframe tbody tr th:only-of-type {\n",
       "        vertical-align: middle;\n",
       "    }\n",
       "\n",
       "    .dataframe tbody tr th {\n",
       "        vertical-align: top;\n",
       "    }\n",
       "\n",
       "    .dataframe thead th {\n",
       "        text-align: right;\n",
       "    }\n",
       "</style>\n",
       "<table border=\"1\" class=\"dataframe\">\n",
       "  <thead>\n",
       "    <tr style=\"text-align: right;\">\n",
       "      <th></th>\n",
       "      <th>region</th>\n",
       "      <th>price</th>\n",
       "      <th>year</th>\n",
       "      <th>manufacturer</th>\n",
       "      <th>model</th>\n",
       "      <th>condition</th>\n",
       "      <th>cylinders</th>\n",
       "      <th>fuel</th>\n",
       "      <th>odometer</th>\n",
       "      <th>transmission</th>\n",
       "      <th>drive</th>\n",
       "      <th>type</th>\n",
       "      <th>paint_color</th>\n",
       "      <th>state</th>\n",
       "      <th>posting_date</th>\n",
       "    </tr>\n",
       "  </thead>\n",
       "  <tbody>\n",
       "    <tr>\n",
       "      <th>29386</th>\n",
       "      <td>humboldt county</td>\n",
       "      <td>1111111111</td>\n",
       "      <td>1999.0</td>\n",
       "      <td>ford</td>\n",
       "      <td>f350 super duty lariat</td>\n",
       "      <td>good</td>\n",
       "      <td>8 cylinders</td>\n",
       "      <td>diesel</td>\n",
       "      <td>149000.0</td>\n",
       "      <td>automatic</td>\n",
       "      <td>rwd</td>\n",
       "      <td>pickup</td>\n",
       "      <td>white</td>\n",
       "      <td>ca</td>\n",
       "      <td>2021-04-11T11:40:08-0700</td>\n",
       "    </tr>\n",
       "    <tr>\n",
       "      <th>68935</th>\n",
       "      <td>ventura county</td>\n",
       "      <td>2000000</td>\n",
       "      <td>2002.0</td>\n",
       "      <td>saturn</td>\n",
       "      <td>l-series l200 4dr sedan</td>\n",
       "      <td>good</td>\n",
       "      <td>4 cylinders</td>\n",
       "      <td>gas</td>\n",
       "      <td>164290.0</td>\n",
       "      <td>automatic</td>\n",
       "      <td>fwd</td>\n",
       "      <td>sedan</td>\n",
       "      <td>green</td>\n",
       "      <td>ca</td>\n",
       "      <td>2021-04-06T16:40:31-0700</td>\n",
       "    </tr>\n",
       "    <tr>\n",
       "      <th>136516</th>\n",
       "      <td>spokane / coeur d'alene</td>\n",
       "      <td>17000000</td>\n",
       "      <td>2007.0</td>\n",
       "      <td>ram</td>\n",
       "      <td>2500</td>\n",
       "      <td>good</td>\n",
       "      <td>8 cylinders</td>\n",
       "      <td>diesel</td>\n",
       "      <td>170000.0</td>\n",
       "      <td>automatic</td>\n",
       "      <td>4wd</td>\n",
       "      <td>pickup</td>\n",
       "      <td>black</td>\n",
       "      <td>id</td>\n",
       "      <td>2021-05-02T19:27:17-0700</td>\n",
       "    </tr>\n",
       "    <tr>\n",
       "      <th>137807</th>\n",
       "      <td>spokane / coeur d'alene</td>\n",
       "      <td>123456789</td>\n",
       "      <td>1999.0</td>\n",
       "      <td>buick</td>\n",
       "      <td>regal</td>\n",
       "      <td>like new</td>\n",
       "      <td>6 cylinders</td>\n",
       "      <td>gas</td>\n",
       "      <td>96000.0</td>\n",
       "      <td>automatic</td>\n",
       "      <td>fwd</td>\n",
       "      <td>sedan</td>\n",
       "      <td>white</td>\n",
       "      <td>id</td>\n",
       "      <td>2021-04-29T08:48:15-0700</td>\n",
       "    </tr>\n",
       "    <tr>\n",
       "      <th>155421</th>\n",
       "      <td>terre haute</td>\n",
       "      <td>1234567</td>\n",
       "      <td>2006.0</td>\n",
       "      <td>jeep</td>\n",
       "      <td>wrangler</td>\n",
       "      <td>like new</td>\n",
       "      <td>6 cylinders</td>\n",
       "      <td>gas</td>\n",
       "      <td>123456.0</td>\n",
       "      <td>automatic</td>\n",
       "      <td>4wd</td>\n",
       "      <td>SUV</td>\n",
       "      <td>custom</td>\n",
       "      <td>in</td>\n",
       "      <td>2021-04-18T11:26:55-0400</td>\n",
       "    </tr>\n",
       "    <tr>\n",
       "      <th>219241</th>\n",
       "      <td>southwest MS</td>\n",
       "      <td>1111111</td>\n",
       "      <td>1970.0</td>\n",
       "      <td>dodge</td>\n",
       "      <td>challenger</td>\n",
       "      <td>fair</td>\n",
       "      <td>8 cylinders</td>\n",
       "      <td>gas</td>\n",
       "      <td>42000.0</td>\n",
       "      <td>automatic</td>\n",
       "      <td>rwd</td>\n",
       "      <td>coupe</td>\n",
       "      <td>blue</td>\n",
       "      <td>ms</td>\n",
       "      <td>2021-04-11T19:04:00-0500</td>\n",
       "    </tr>\n",
       "    <tr>\n",
       "      <th>230753</th>\n",
       "      <td>asheville</td>\n",
       "      <td>135008900</td>\n",
       "      <td>2008.0</td>\n",
       "      <td>nissan</td>\n",
       "      <td>titan se kingcab</td>\n",
       "      <td>like new</td>\n",
       "      <td>8 cylinders</td>\n",
       "      <td>gas</td>\n",
       "      <td>110500.0</td>\n",
       "      <td>automatic</td>\n",
       "      <td>4wd</td>\n",
       "      <td>truck</td>\n",
       "      <td>grey</td>\n",
       "      <td>nc</td>\n",
       "      <td>2021-04-16T19:22:21-0400</td>\n",
       "    </tr>\n",
       "    <tr>\n",
       "      <th>307488</th>\n",
       "      <td>stillwater</td>\n",
       "      <td>123456789</td>\n",
       "      <td>1996.0</td>\n",
       "      <td>gmc</td>\n",
       "      <td>sierra 2500</td>\n",
       "      <td>fair</td>\n",
       "      <td>8 cylinders</td>\n",
       "      <td>gas</td>\n",
       "      <td>320000.0</td>\n",
       "      <td>automatic</td>\n",
       "      <td>4wd</td>\n",
       "      <td>pickup</td>\n",
       "      <td>black</td>\n",
       "      <td>ok</td>\n",
       "      <td>2021-04-07T12:44:56-0500</td>\n",
       "    </tr>\n",
       "    <tr>\n",
       "      <th>318592</th>\n",
       "      <td>eugene</td>\n",
       "      <td>3736928711</td>\n",
       "      <td>2007.0</td>\n",
       "      <td>toyota</td>\n",
       "      <td>tundra</td>\n",
       "      <td>excellent</td>\n",
       "      <td>8 cylinders</td>\n",
       "      <td>gas</td>\n",
       "      <td>164000.0</td>\n",
       "      <td>automatic</td>\n",
       "      <td>4wd</td>\n",
       "      <td>pickup</td>\n",
       "      <td>silver</td>\n",
       "      <td>or</td>\n",
       "      <td>2021-04-16T18:16:12-0700</td>\n",
       "    </tr>\n",
       "  </tbody>\n",
       "</table>\n",
       "</div>"
      ],
      "text/plain": [
       "                         region       price    year manufacturer  \\\n",
       "29386           humboldt county  1111111111  1999.0         ford   \n",
       "68935            ventura county     2000000  2002.0       saturn   \n",
       "136516  spokane / coeur d'alene    17000000  2007.0          ram   \n",
       "137807  spokane / coeur d'alene   123456789  1999.0        buick   \n",
       "155421              terre haute     1234567  2006.0         jeep   \n",
       "219241             southwest MS     1111111  1970.0        dodge   \n",
       "230753                asheville   135008900  2008.0       nissan   \n",
       "307488               stillwater   123456789  1996.0          gmc   \n",
       "318592                   eugene  3736928711  2007.0       toyota   \n",
       "\n",
       "                          model  condition    cylinders    fuel  odometer  \\\n",
       "29386    f350 super duty lariat       good  8 cylinders  diesel  149000.0   \n",
       "68935   l-series l200 4dr sedan       good  4 cylinders     gas  164290.0   \n",
       "136516                     2500       good  8 cylinders  diesel  170000.0   \n",
       "137807                    regal   like new  6 cylinders     gas   96000.0   \n",
       "155421                 wrangler   like new  6 cylinders     gas  123456.0   \n",
       "219241               challenger       fair  8 cylinders     gas   42000.0   \n",
       "230753         titan se kingcab   like new  8 cylinders     gas  110500.0   \n",
       "307488              sierra 2500       fair  8 cylinders     gas  320000.0   \n",
       "318592                   tundra  excellent  8 cylinders     gas  164000.0   \n",
       "\n",
       "       transmission drive    type paint_color state              posting_date  \n",
       "29386     automatic   rwd  pickup       white    ca  2021-04-11T11:40:08-0700  \n",
       "68935     automatic   fwd   sedan       green    ca  2021-04-06T16:40:31-0700  \n",
       "136516    automatic   4wd  pickup       black    id  2021-05-02T19:27:17-0700  \n",
       "137807    automatic   fwd   sedan       white    id  2021-04-29T08:48:15-0700  \n",
       "155421    automatic   4wd     SUV      custom    in  2021-04-18T11:26:55-0400  \n",
       "219241    automatic   rwd   coupe        blue    ms  2021-04-11T19:04:00-0500  \n",
       "230753    automatic   4wd   truck        grey    nc  2021-04-16T19:22:21-0400  \n",
       "307488    automatic   4wd  pickup       black    ok  2021-04-07T12:44:56-0500  \n",
       "318592    automatic   4wd  pickup      silver    or  2021-04-16T18:16:12-0700  "
      ]
     },
     "execution_count": 40,
     "metadata": {},
     "output_type": "execute_result"
    }
   ],
   "source": [
    "car_df[car_df[\"price\"] >= 200900]"
   ]
  },
  {
   "cell_type": "markdown",
   "id": "237a2fb9-0b8b-4ef1-9db2-eacf626b4f9c",
   "metadata": {},
   "source": [
    "These prices in the following dataframe look very much made up. So let us remove them "
   ]
  },
  {
   "cell_type": "code",
   "execution_count": 42,
   "id": "54c4ead2-e89c-4c50-b4a9-bee7578d87ff",
   "metadata": {},
   "outputs": [
    {
     "data": {
      "text/plain": [
       "(110623, 15)"
      ]
     },
     "execution_count": 42,
     "metadata": {},
     "output_type": "execute_result"
    }
   ],
   "source": [
    "car_df.shape"
   ]
  },
  {
   "cell_type": "code",
   "execution_count": 43,
   "id": "9ce8e4e5-e150-48da-ad7a-7fc277e63ddb",
   "metadata": {},
   "outputs": [],
   "source": [
    "car_df = car_df[car_df[\"price\"] <= 200900]"
   ]
  },
  {
   "cell_type": "code",
   "execution_count": 44,
   "id": "225c7012-27c3-4169-a92e-690b7f7bc298",
   "metadata": {},
   "outputs": [
    {
     "data": {
      "text/plain": [
       "(110614, 15)"
      ]
     },
     "execution_count": 44,
     "metadata": {},
     "output_type": "execute_result"
    }
   ],
   "source": [
    "car_df.shape"
   ]
  },
  {
   "cell_type": "code",
   "execution_count": 45,
   "id": "4f17bde8-fa1c-447f-afb8-2002c2ee1529",
   "metadata": {},
   "outputs": [
    {
     "name": "stdout",
     "output_type": "stream",
     "text": [
      "count    110614.000000\n",
      "mean      16147.254163\n",
      "std       13342.197832\n",
      "min         100.000000\n",
      "50%       11900.000000\n",
      "75%       23824.000000\n",
      "90%       35590.000000\n",
      "95%       39990.000000\n",
      "max      195000.000000\n",
      "Name: price, dtype: float64\n"
     ]
    }
   ],
   "source": [
    "print(car_df['price'].describe(percentiles=[0.75, 0.90, 0.95]))"
   ]
  },
  {
   "cell_type": "code",
   "execution_count": 56,
   "id": "9fff559f-ebc7-460f-bd2f-841b538ffeca",
   "metadata": {},
   "outputs": [
    {
     "data": {
      "image/png": "[encoded data removed]",
      "text/plain": [
       "<Figure size 640x480 with 1 Axes>"
      ]
     },
     "metadata": {},
     "output_type": "display_data"
    }
   ],
   "source": [
    "sns.histplot(car_df['price'], kde=True)\n",
    "plt.xticks(rotation=45) # kde=True adds a Kernel Density Estimate plot\n",
    "plt.title('Price Distribution - Histogram')\n",
    "plt.xlabel('Price')\n",
    "plt.ylabel('Frequency')\n",
    "plt.show()\n"
   ]
  },
  {
   "cell_type": "markdown",
   "id": "16ae001f-c5fe-4cf1-833b-7a455eac127c",
   "metadata": {},
   "source": [
    "Car Price Data Inferences\n",
    "\n",
    "- **Right-Skewed Distribution**: The histogram displays a right-skewed distribution of car prices, suggesting the presence of a few vehicles with prices significantly higher than the bulk of the data. These high-priced cars are not representative of the general dataset.\n",
    "\n",
    "- **Common Price Range**: A significant clustering of car prices at the lower end of the price range is evident. This concentration indicates that the majority of cars fall within a more economical or affordable price bracket."
   ]
  },
  {
   "cell_type": "markdown",
   "id": "aa3182af-2352-464e-8274-1298dd402cb1",
   "metadata": {},
   "source": [
    "##### Region"
   ]
  },
  {
   "cell_type": "code",
   "execution_count": 68,
   "id": "f0916c73-e312-4176-8e0f-377c2a40fb05",
   "metadata": {},
   "outputs": [
    {
     "data": {
      "text/plain": [
       "403"
      ]
     },
     "execution_count": 68,
     "metadata": {},
     "output_type": "execute_result"
    }
   ],
   "source": [
    "len(car_df[\"region\"].value_counts())"
   ]
  },
  {
   "cell_type": "markdown",
   "id": "c14c70e8-91e3-4793-91d4-cb450541aa9d",
   "metadata": {},
   "source": [
    "We see that there are 403 different regions in which the cars are sold "
   ]
  },
  {
   "cell_type": "code",
   "execution_count": 61,
   "id": "c7fb0fcd-122e-461d-ad53-ec18cd1514bc",
   "metadata": {},
   "outputs": [
    {
     "data": {
      "text/plain": [
       "region\n",
       "SF bay area               17292.801307\n",
       "abilene                   14877.657143\n",
       "akron / canton            13146.716102\n",
       "albany                    17962.430057\n",
       "albuquerque               17581.487909\n",
       "                              ...     \n",
       "york                      15680.216346\n",
       "youngstown                14085.419087\n",
       "yuba-sutter               20095.484848\n",
       "yuma                       9882.813559\n",
       "zanesville / cambridge    19155.217391\n",
       "Name: price, Length: 403, dtype: float64"
      ]
     },
     "execution_count": 61,
     "metadata": {},
     "output_type": "execute_result"
    }
   ],
   "source": [
    "car_df.groupby('region')['price'].mean()"
   ]
  },
  {
   "cell_type": "code",
   "execution_count": 70,
   "id": "e026fcdd-99b3-42c8-866d-4fc9bff3f57e",
   "metadata": {},
   "outputs": [
    {
     "data": {
      "image/png": "[encoded data removed]",
      "text/plain": [
       "<Figure size 640x480 with 1 Axes>"
      ]
     },
     "metadata": {},
     "output_type": "display_data"
    }
   ],
   "source": [
    "random_regions = car_df.groupby('region')['price'].mean().sample(n=10, random_state=7).reset_index()\n",
    "\n",
    "sns.barplot(x='price', y='region', data=random_regions)\n",
    "\n",
    "# Set the title and labels\n",
    "plt.title('Random Sample of Average Car Price by Region')\n",
    "plt.xlabel('Average Price')\n",
    "plt.ylabel('Region')\n",
    "\n",
    "# Show the plot\n",
    "plt.show()\n"
   ]
  },
  {
   "cell_type": "code",
   "execution_count": null,
   "id": "5a4fb783-7173-4a50-a5a2-4a85888c01dc",
   "metadata": {},
   "outputs": [],
   "source": []
  }
 ],
 "metadata": {
  "kernelspec": {
   "display_name": "stablenv",
   "language": "python",
   "name": "stablenv"
  },
  "language_info": {
   "codemirror_mode": {
    "name": "ipython",
    "version": 3
   },
   "file_extension": ".py",
   "mimetype": "text/x-python",
   "name": "python",
   "nbconvert_exporter": "python",
   "pygments_lexer": "ipython3",
   "version": "3.10.12"
  }
 },
 "nbformat": 4,
 "nbformat_minor": 5
}
