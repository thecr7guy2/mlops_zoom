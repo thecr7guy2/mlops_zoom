{
 "cells": [
  {
   "cell_type": "code",
   "execution_count": 1,
   "id": "30b91237-2766-43c2-9201-6b49262c61dd",
   "metadata": {},
   "outputs": [
    {
     "name": "stdout",
     "output_type": "stream",
     "text": [
      "Python 3.10.12\n"
     ]
    }
   ],
   "source": [
    "!python3 --version"
   ]
  },
  {
   "cell_type": "markdown",
   "id": "74b9105b-8b3f-4477-a919-ca103305c9a5",
   "metadata": {},
   "source": [
    "#### 🚗 Used Car Price Prediction"
   ]
  },
  {
   "cell_type": "markdown",
   "id": "96c195f1-984e-4fa4-bc74-e4f3abcf196e",
   "metadata": {},
   "source": [
    "Data from - https://www.kaggle.com/datasets/austinreese/craigslist-carstrucks-data"
   ]
  },
  {
   "cell_type": "markdown",
   "id": "2a398838-fca9-45df-8582-da89fae8517d",
   "metadata": {
    "jp-MarkdownHeadingCollapsed": true
   },
   "source": [
    "##### 👋 Introduction"
   ]
  },
  {
   "cell_type": "markdown",
   "id": "def5dce6-e61c-455c-9c1d-9fa56b2e16d5",
   "metadata": {},
   "source": [
    "So called Second hand's car have a huge market base. Many consider to buy a Used Car intsead of buying of new one, as it's is feasible and a better investment.\n",
    "\n",
    "The main reason for this huge market is that when you buy a New Car and sale it just another day without any default on it, the price of car reduces by 30%.\n",
    "\n",
    "There are also many frauds in the market who not only sale wrong but also they could mislead to wrong price.\n",
    "\n",
    "\n"
   ]
  },
  {
   "cell_type": "markdown",
   "id": "f35c5780-8b13-418d-ac4e-be0e27549589",
   "metadata": {},
   "source": [
    "##### 💻 Import Necessary Libraries and Load Data"
   ]
  },
  {
   "cell_type": "code",
   "execution_count": 4,
   "id": "03981438-57ed-4f28-a15e-3e0be6e5e79f",
   "metadata": {},
   "outputs": [
    {
     "ename": "ModuleNotFoundError",
     "evalue": "No module named 'matplotlib'",
     "output_type": "error",
     "traceback": [
      "\u001b[0;31m---------------------------------------------------------------------------\u001b[0m",
      "\u001b[0;31mModuleNotFoundError\u001b[0m                       Traceback (most recent call last)",
      "Cell \u001b[0;32mIn[4], line 3\u001b[0m\n\u001b[1;32m      1\u001b[0m \u001b[38;5;28;01mimport\u001b[39;00m \u001b[38;5;21;01mpandas\u001b[39;00m \u001b[38;5;28;01mas\u001b[39;00m \u001b[38;5;21;01mpd\u001b[39;00m\n\u001b[1;32m      2\u001b[0m \u001b[38;5;28;01mimport\u001b[39;00m \u001b[38;5;21;01mnumpy\u001b[39;00m \u001b[38;5;28;01mas\u001b[39;00m \u001b[38;5;21;01mnp\u001b[39;00m\n\u001b[0;32m----> 3\u001b[0m \u001b[38;5;28;01mimport\u001b[39;00m \u001b[38;5;21;01mmatplotlib\u001b[39;00m\u001b[38;5;21;01m.\u001b[39;00m\u001b[38;5;21;01mpyplot\u001b[39;00m \u001b[38;5;28;01mas\u001b[39;00m \u001b[38;5;21;01mplt\u001b[39;00m\n\u001b[1;32m      4\u001b[0m \u001b[38;5;28;01mimport\u001b[39;00m \u001b[38;5;21;01mseaborn\u001b[39;00m \u001b[38;5;28;01mas\u001b[39;00m \u001b[38;5;21;01msns\u001b[39;00m\n\u001b[1;32m      5\u001b[0m sns\u001b[38;5;241m.\u001b[39mset(style\u001b[38;5;241m=\u001b[39m\u001b[38;5;124m\"\u001b[39m\u001b[38;5;124mdarkgrid\u001b[39m\u001b[38;5;124m\"\u001b[39m)\n",
      "\u001b[0;31mModuleNotFoundError\u001b[0m: No module named 'matplotlib'"
     ]
    }
   ],
   "source": [
    "import pandas as pd\n",
    "import numpy as np\n",
    "import matplotlib.pyplot as plt\n",
    "import seaborn as sns\n",
    "sns.set(style=\"darkgrid\")"
   ]
  },
  {
   "cell_type": "code",
   "execution_count": 2,
   "id": "0015e916-37cb-44ea-aa33-3b402d2a0adb",
   "metadata": {},
   "outputs": [],
   "source": [
    "car_df = pd.read_csv(\"../data/vehicles.csv\")"
   ]
  },
  {
   "cell_type": "code",
   "execution_count": 3,
   "id": "39c9956d-6ca8-48c8-8850-609f302ea9af",
   "metadata": {},
   "outputs": [
    {
     "ename": "NameError",
     "evalue": "name 'car_df' is not defined",
     "output_type": "error",
     "traceback": [
      "\u001b[0;31m---------------------------------------------------------------------------\u001b[0m",
      "\u001b[0;31mNameError\u001b[0m                                 Traceback (most recent call last)",
      "Cell \u001b[0;32mIn[3], line 1\u001b[0m\n\u001b[0;32m----> 1\u001b[0m \u001b[43mcar_df\u001b[49m\u001b[38;5;241m.\u001b[39mhead()\n",
      "\u001b[0;31mNameError\u001b[0m: name 'car_df' is not defined"
     ]
    }
   ],
   "source": [
    "car_df.head()"
   ]
  },
  {
   "cell_type": "code",
   "execution_count": 4,
   "id": "984f0d1b-abe8-4724-868a-d3794f1b147c",
   "metadata": {},
   "outputs": [
    {
     "data": {
      "text/plain": [
       "(426880, 26)"
      ]
     },
     "execution_count": 4,
     "metadata": {},
     "output_type": "execute_result"
    }
   ],
   "source": [
    "car_df.shape"
   ]
  },
  {
   "cell_type": "markdown",
   "id": "fdc88b66-6cc9-4c6d-9f25-bb9ffefd57ca",
   "metadata": {},
   "source": [
    "There are almost 400,000 entries of cars listed on craigslist and have 26 attributes repreesenting the data"
   ]
  },
  {
   "cell_type": "code",
   "execution_count": 5,
   "id": "e6258b4a-331c-4bde-b77b-75bee9944f8e",
   "metadata": {},
   "outputs": [
    {
     "name": "stdout",
     "output_type": "stream",
     "text": [
      "<class 'pandas.core.frame.DataFrame'>\n",
      "RangeIndex: 426880 entries, 0 to 426879\n",
      "Data columns (total 26 columns):\n",
      " #   Column        Non-Null Count   Dtype  \n",
      "---  ------        --------------   -----  \n",
      " 0   id            426880 non-null  int64  \n",
      " 1   url           426880 non-null  object \n",
      " 2   region        426880 non-null  object \n",
      " 3   region_url    426880 non-null  object \n",
      " 4   price         426880 non-null  int64  \n",
      " 5   year          425675 non-null  float64\n",
      " 6   manufacturer  409234 non-null  object \n",
      " 7   model         421603 non-null  object \n",
      " 8   condition     252776 non-null  object \n",
      " 9   cylinders     249202 non-null  object \n",
      " 10  fuel          423867 non-null  object \n",
      " 11  odometer      422480 non-null  float64\n",
      " 12  title_status  418638 non-null  object \n",
      " 13  transmission  424324 non-null  object \n",
      " 14  VIN           265838 non-null  object \n",
      " 15  drive         296313 non-null  object \n",
      " 16  size          120519 non-null  object \n",
      " 17  type          334022 non-null  object \n",
      " 18  paint_color   296677 non-null  object \n",
      " 19  image_url     426812 non-null  object \n",
      " 20  description   426810 non-null  object \n",
      " 21  county        0 non-null       float64\n",
      " 22  state         426880 non-null  object \n",
      " 23  lat           420331 non-null  float64\n",
      " 24  long          420331 non-null  float64\n",
      " 25  posting_date  426812 non-null  object \n",
      "dtypes: float64(5), int64(2), object(19)\n",
      "memory usage: 84.7+ MB\n"
     ]
    }
   ],
   "source": [
    "car_df.info()"
   ]
  },
  {
   "cell_type": "markdown",
   "id": "81ac80ed-e2bd-48f6-9c60-e38b56eadae0",
   "metadata": {},
   "source": [
    "We get to know a lot from seeing this initial data.\n",
    "\n",
    "Upon the first look, we see that many columns do not give us any good info like the *id* and *url* column"
   ]
  },
  {
   "cell_type": "markdown",
   "id": "bc965fe5-9a88-4a77-86a4-91c7c100102d",
   "metadata": {},
   "source": [
    "##### 🧹 Data Cleaning"
   ]
  },
  {
   "cell_type": "markdown",
   "id": "6b8dfac4-a2a1-4cae-9fdf-89e621201aee",
   "metadata": {},
   "source": [
    "Before the data is even analyzed, it needs to be cleaned. This involves handling missing values, outliers, and other data issues."
   ]
  },
  {
   "cell_type": "code",
   "execution_count": 12,
   "id": "b7ba71dc-3f3b-4c49-b953-56c650b2f1e8",
   "metadata": {},
   "outputs": [],
   "source": [
    "drop_col = ['url', 'region_url', 'title_status', 'VIN', 'size', 'image_url', 'description', 'lat','long']"
   ]
  },
  {
   "cell_type": "markdown",
   "id": "b664587c-29fe-4d97-919b-09b26aae0b3b",
   "metadata": {},
   "source": [
    "We have selected a list of columns that we think can be removed.\n",
    "\n",
    "Although, lat and long can give some crucial information, we chose to remove them since it is out of the scope for a simple machine learning model we are tryna build."
   ]
  },
  {
   "cell_type": "code",
   "execution_count": 13,
   "id": "c42aa3e1-fd2b-4dab-a474-dcbc1bc3d31b",
   "metadata": {},
   "outputs": [],
   "source": [
    "car_df = car_df.drop(columns=drop_col)"
   ]
  },
  {
   "cell_type": "code",
   "execution_count": 15,
   "id": "e097a771-febe-4847-ab2c-9367a88ed8c9",
   "metadata": {},
   "outputs": [],
   "source": [
    "car_df = car_df.drop(columns=[\"id\"])"
   ]
  },
  {
   "cell_type": "code",
   "execution_count": 16,
   "id": "92c61d37-d6b3-4af6-bb88-8cbf1ae1353b",
   "metadata": {},
   "outputs": [
    {
     "data": {
      "text/html": [
       "<div>\n",
       "<style scoped>\n",
       "    .dataframe tbody tr th:only-of-type {\n",
       "        vertical-align: middle;\n",
       "    }\n",
       "\n",
       "    .dataframe tbody tr th {\n",
       "        vertical-align: top;\n",
       "    }\n",
       "\n",
       "    .dataframe thead th {\n",
       "        text-align: right;\n",
       "    }\n",
       "</style>\n",
       "<table border=\"1\" class=\"dataframe\">\n",
       "  <thead>\n",
       "    <tr style=\"text-align: right;\">\n",
       "      <th></th>\n",
       "      <th>region</th>\n",
       "      <th>price</th>\n",
       "      <th>year</th>\n",
       "      <th>manufacturer</th>\n",
       "      <th>model</th>\n",
       "      <th>condition</th>\n",
       "      <th>cylinders</th>\n",
       "      <th>fuel</th>\n",
       "      <th>odometer</th>\n",
       "      <th>transmission</th>\n",
       "      <th>drive</th>\n",
       "      <th>type</th>\n",
       "      <th>paint_color</th>\n",
       "      <th>county</th>\n",
       "      <th>state</th>\n",
       "      <th>posting_date</th>\n",
       "    </tr>\n",
       "  </thead>\n",
       "  <tbody>\n",
       "    <tr>\n",
       "      <th>0</th>\n",
       "      <td>prescott</td>\n",
       "      <td>6000</td>\n",
       "      <td>NaN</td>\n",
       "      <td>NaN</td>\n",
       "      <td>NaN</td>\n",
       "      <td>NaN</td>\n",
       "      <td>NaN</td>\n",
       "      <td>NaN</td>\n",
       "      <td>NaN</td>\n",
       "      <td>NaN</td>\n",
       "      <td>NaN</td>\n",
       "      <td>NaN</td>\n",
       "      <td>NaN</td>\n",
       "      <td>NaN</td>\n",
       "      <td>az</td>\n",
       "      <td>NaN</td>\n",
       "    </tr>\n",
       "    <tr>\n",
       "      <th>1</th>\n",
       "      <td>fayetteville</td>\n",
       "      <td>11900</td>\n",
       "      <td>NaN</td>\n",
       "      <td>NaN</td>\n",
       "      <td>NaN</td>\n",
       "      <td>NaN</td>\n",
       "      <td>NaN</td>\n",
       "      <td>NaN</td>\n",
       "      <td>NaN</td>\n",
       "      <td>NaN</td>\n",
       "      <td>NaN</td>\n",
       "      <td>NaN</td>\n",
       "      <td>NaN</td>\n",
       "      <td>NaN</td>\n",
       "      <td>ar</td>\n",
       "      <td>NaN</td>\n",
       "    </tr>\n",
       "    <tr>\n",
       "      <th>2</th>\n",
       "      <td>florida keys</td>\n",
       "      <td>21000</td>\n",
       "      <td>NaN</td>\n",
       "      <td>NaN</td>\n",
       "      <td>NaN</td>\n",
       "      <td>NaN</td>\n",
       "      <td>NaN</td>\n",
       "      <td>NaN</td>\n",
       "      <td>NaN</td>\n",
       "      <td>NaN</td>\n",
       "      <td>NaN</td>\n",
       "      <td>NaN</td>\n",
       "      <td>NaN</td>\n",
       "      <td>NaN</td>\n",
       "      <td>fl</td>\n",
       "      <td>NaN</td>\n",
       "    </tr>\n",
       "    <tr>\n",
       "      <th>3</th>\n",
       "      <td>worcester / central MA</td>\n",
       "      <td>1500</td>\n",
       "      <td>NaN</td>\n",
       "      <td>NaN</td>\n",
       "      <td>NaN</td>\n",
       "      <td>NaN</td>\n",
       "      <td>NaN</td>\n",
       "      <td>NaN</td>\n",
       "      <td>NaN</td>\n",
       "      <td>NaN</td>\n",
       "      <td>NaN</td>\n",
       "      <td>NaN</td>\n",
       "      <td>NaN</td>\n",
       "      <td>NaN</td>\n",
       "      <td>ma</td>\n",
       "      <td>NaN</td>\n",
       "    </tr>\n",
       "    <tr>\n",
       "      <th>4</th>\n",
       "      <td>greensboro</td>\n",
       "      <td>4900</td>\n",
       "      <td>NaN</td>\n",
       "      <td>NaN</td>\n",
       "      <td>NaN</td>\n",
       "      <td>NaN</td>\n",
       "      <td>NaN</td>\n",
       "      <td>NaN</td>\n",
       "      <td>NaN</td>\n",
       "      <td>NaN</td>\n",
       "      <td>NaN</td>\n",
       "      <td>NaN</td>\n",
       "      <td>NaN</td>\n",
       "      <td>NaN</td>\n",
       "      <td>nc</td>\n",
       "      <td>NaN</td>\n",
       "    </tr>\n",
       "  </tbody>\n",
       "</table>\n",
       "</div>"
      ],
      "text/plain": [
       "                   region  price  year manufacturer model condition cylinders  \\\n",
       "0                prescott   6000   NaN          NaN   NaN       NaN       NaN   \n",
       "1            fayetteville  11900   NaN          NaN   NaN       NaN       NaN   \n",
       "2            florida keys  21000   NaN          NaN   NaN       NaN       NaN   \n",
       "3  worcester / central MA   1500   NaN          NaN   NaN       NaN       NaN   \n",
       "4              greensboro   4900   NaN          NaN   NaN       NaN       NaN   \n",
       "\n",
       "  fuel  odometer transmission drive type paint_color  county state  \\\n",
       "0  NaN       NaN          NaN   NaN  NaN         NaN     NaN    az   \n",
       "1  NaN       NaN          NaN   NaN  NaN         NaN     NaN    ar   \n",
       "2  NaN       NaN          NaN   NaN  NaN         NaN     NaN    fl   \n",
       "3  NaN       NaN          NaN   NaN  NaN         NaN     NaN    ma   \n",
       "4  NaN       NaN          NaN   NaN  NaN         NaN     NaN    nc   \n",
       "\n",
       "  posting_date  \n",
       "0          NaN  \n",
       "1          NaN  \n",
       "2          NaN  \n",
       "3          NaN  \n",
       "4          NaN  "
      ]
     },
     "execution_count": 16,
     "metadata": {},
     "output_type": "execute_result"
    }
   ],
   "source": [
    "car_df.head()"
   ]
  },
  {
   "cell_type": "markdown",
   "id": "44869516-dc04-4579-baac-f9b0ed1cc1ba",
   "metadata": {},
   "source": [
    "The target variable we have to predict is the PRICE column."
   ]
  },
  {
   "cell_type": "code",
   "execution_count": 17,
   "id": "5f1892f9-bd04-40ba-b279-266624962a1f",
   "metadata": {},
   "outputs": [
    {
     "name": "stdout",
     "output_type": "stream",
     "text": [
      "<class 'pandas.core.frame.DataFrame'>\n",
      "RangeIndex: 426880 entries, 0 to 426879\n",
      "Data columns (total 16 columns):\n",
      " #   Column        Non-Null Count   Dtype  \n",
      "---  ------        --------------   -----  \n",
      " 0   region        426880 non-null  object \n",
      " 1   price         426880 non-null  int64  \n",
      " 2   year          425675 non-null  float64\n",
      " 3   manufacturer  409234 non-null  object \n",
      " 4   model         421603 non-null  object \n",
      " 5   condition     252776 non-null  object \n",
      " 6   cylinders     249202 non-null  object \n",
      " 7   fuel          423867 non-null  object \n",
      " 8   odometer      422480 non-null  float64\n",
      " 9   transmission  424324 non-null  object \n",
      " 10  drive         296313 non-null  object \n",
      " 11  type          334022 non-null  object \n",
      " 12  paint_color   296677 non-null  object \n",
      " 13  county        0 non-null       float64\n",
      " 14  state         426880 non-null  object \n",
      " 15  posting_date  426812 non-null  object \n",
      "dtypes: float64(3), int64(1), object(12)\n",
      "memory usage: 52.1+ MB\n"
     ]
    }
   ],
   "source": [
    "car_df.info()"
   ]
  },
  {
   "cell_type": "code",
   "execution_count": 22,
   "id": "bb63a3bd-5316-4238-b008-c8cf247a25c9",
   "metadata": {},
   "outputs": [],
   "source": [
    "car_df = car_df.drop(columns=[\"county\"])"
   ]
  },
  {
   "cell_type": "code",
   "execution_count": 26,
   "id": "5f1088f3-f388-4faa-91c6-ca951868fca2",
   "metadata": {},
   "outputs": [
    {
     "data": {
      "text/plain": [
       "(115988, 15)"
      ]
     },
     "execution_count": 26,
     "metadata": {},
     "output_type": "execute_result"
    }
   ],
   "source": [
    "car_df.shape"
   ]
  },
  {
   "cell_type": "code",
   "execution_count": 24,
   "id": "ffb537d6-9d7a-42b7-a491-43571d38cba3",
   "metadata": {},
   "outputs": [],
   "source": [
    "car_df = car_df.dropna()"
   ]
  },
  {
   "cell_type": "code",
   "execution_count": 25,
   "id": "92cb2fe7-c783-4629-8312-39cc1fa86d9a",
   "metadata": {},
   "outputs": [
    {
     "name": "stdout",
     "output_type": "stream",
     "text": [
      "<class 'pandas.core.frame.DataFrame'>\n",
      "Index: 115988 entries, 31 to 426878\n",
      "Data columns (total 15 columns):\n",
      " #   Column        Non-Null Count   Dtype  \n",
      "---  ------        --------------   -----  \n",
      " 0   region        115988 non-null  object \n",
      " 1   price         115988 non-null  int64  \n",
      " 2   year          115988 non-null  float64\n",
      " 3   manufacturer  115988 non-null  object \n",
      " 4   model         115988 non-null  object \n",
      " 5   condition     115988 non-null  object \n",
      " 6   cylinders     115988 non-null  object \n",
      " 7   fuel          115988 non-null  object \n",
      " 8   odometer      115988 non-null  float64\n",
      " 9   transmission  115988 non-null  object \n",
      " 10  drive         115988 non-null  object \n",
      " 11  type          115988 non-null  object \n",
      " 12  paint_color   115988 non-null  object \n",
      " 13  state         115988 non-null  object \n",
      " 14  posting_date  115988 non-null  object \n",
      "dtypes: float64(2), int64(1), object(12)\n",
      "memory usage: 14.2+ MB\n"
     ]
    }
   ],
   "source": [
    "car_df.info()"
   ]
  },
  {
   "cell_type": "markdown",
   "id": "e4af80ad-c6e2-4f36-aaf9-e8ef2a4f111b",
   "metadata": {},
   "source": [
    "We only know have a fourth of our original data after getting rid of the NAN's"
   ]
  },
  {
   "cell_type": "code",
   "execution_count": 27,
   "id": "4830edf6-4100-4fd7-a0e6-545939e4c6fb",
   "metadata": {},
   "outputs": [
    {
     "data": {
      "text/html": [
       "<div>\n",
       "<style scoped>\n",
       "    .dataframe tbody tr th:only-of-type {\n",
       "        vertical-align: middle;\n",
       "    }\n",
       "\n",
       "    .dataframe tbody tr th {\n",
       "        vertical-align: top;\n",
       "    }\n",
       "\n",
       "    .dataframe thead th {\n",
       "        text-align: right;\n",
       "    }\n",
       "</style>\n",
       "<table border=\"1\" class=\"dataframe\">\n",
       "  <thead>\n",
       "    <tr style=\"text-align: right;\">\n",
       "      <th></th>\n",
       "      <th>region</th>\n",
       "      <th>price</th>\n",
       "      <th>year</th>\n",
       "      <th>manufacturer</th>\n",
       "      <th>model</th>\n",
       "      <th>condition</th>\n",
       "      <th>cylinders</th>\n",
       "      <th>fuel</th>\n",
       "      <th>odometer</th>\n",
       "      <th>transmission</th>\n",
       "      <th>drive</th>\n",
       "      <th>type</th>\n",
       "      <th>paint_color</th>\n",
       "      <th>state</th>\n",
       "      <th>posting_date</th>\n",
       "    </tr>\n",
       "  </thead>\n",
       "  <tbody>\n",
       "    <tr>\n",
       "      <th>31</th>\n",
       "      <td>auburn</td>\n",
       "      <td>15000</td>\n",
       "      <td>2013.0</td>\n",
       "      <td>ford</td>\n",
       "      <td>f-150 xlt</td>\n",
       "      <td>excellent</td>\n",
       "      <td>6 cylinders</td>\n",
       "      <td>gas</td>\n",
       "      <td>128000.0</td>\n",
       "      <td>automatic</td>\n",
       "      <td>rwd</td>\n",
       "      <td>truck</td>\n",
       "      <td>black</td>\n",
       "      <td>al</td>\n",
       "      <td>2021-05-03T14:02:03-0500</td>\n",
       "    </tr>\n",
       "    <tr>\n",
       "      <th>32</th>\n",
       "      <td>auburn</td>\n",
       "      <td>27990</td>\n",
       "      <td>2012.0</td>\n",
       "      <td>gmc</td>\n",
       "      <td>sierra 2500 hd extended cab</td>\n",
       "      <td>good</td>\n",
       "      <td>8 cylinders</td>\n",
       "      <td>gas</td>\n",
       "      <td>68696.0</td>\n",
       "      <td>other</td>\n",
       "      <td>4wd</td>\n",
       "      <td>pickup</td>\n",
       "      <td>black</td>\n",
       "      <td>al</td>\n",
       "      <td>2021-05-03T13:41:25-0500</td>\n",
       "    </tr>\n",
       "    <tr>\n",
       "      <th>33</th>\n",
       "      <td>auburn</td>\n",
       "      <td>34590</td>\n",
       "      <td>2016.0</td>\n",
       "      <td>chevrolet</td>\n",
       "      <td>silverado 1500 double</td>\n",
       "      <td>good</td>\n",
       "      <td>6 cylinders</td>\n",
       "      <td>gas</td>\n",
       "      <td>29499.0</td>\n",
       "      <td>other</td>\n",
       "      <td>4wd</td>\n",
       "      <td>pickup</td>\n",
       "      <td>silver</td>\n",
       "      <td>al</td>\n",
       "      <td>2021-05-03T12:41:33-0500</td>\n",
       "    </tr>\n",
       "    <tr>\n",
       "      <th>34</th>\n",
       "      <td>auburn</td>\n",
       "      <td>35000</td>\n",
       "      <td>2019.0</td>\n",
       "      <td>toyota</td>\n",
       "      <td>tacoma</td>\n",
       "      <td>excellent</td>\n",
       "      <td>6 cylinders</td>\n",
       "      <td>gas</td>\n",
       "      <td>43000.0</td>\n",
       "      <td>automatic</td>\n",
       "      <td>4wd</td>\n",
       "      <td>truck</td>\n",
       "      <td>grey</td>\n",
       "      <td>al</td>\n",
       "      <td>2021-05-03T12:12:59-0500</td>\n",
       "    </tr>\n",
       "    <tr>\n",
       "      <th>35</th>\n",
       "      <td>auburn</td>\n",
       "      <td>29990</td>\n",
       "      <td>2016.0</td>\n",
       "      <td>chevrolet</td>\n",
       "      <td>colorado extended cab</td>\n",
       "      <td>good</td>\n",
       "      <td>6 cylinders</td>\n",
       "      <td>gas</td>\n",
       "      <td>17302.0</td>\n",
       "      <td>other</td>\n",
       "      <td>4wd</td>\n",
       "      <td>pickup</td>\n",
       "      <td>red</td>\n",
       "      <td>al</td>\n",
       "      <td>2021-05-03T11:31:14-0500</td>\n",
       "    </tr>\n",
       "  </tbody>\n",
       "</table>\n",
       "</div>"
      ],
      "text/plain": [
       "    region  price    year manufacturer                        model  \\\n",
       "31  auburn  15000  2013.0         ford                    f-150 xlt   \n",
       "32  auburn  27990  2012.0          gmc  sierra 2500 hd extended cab   \n",
       "33  auburn  34590  2016.0    chevrolet        silverado 1500 double   \n",
       "34  auburn  35000  2019.0       toyota                       tacoma   \n",
       "35  auburn  29990  2016.0    chevrolet        colorado extended cab   \n",
       "\n",
       "    condition    cylinders fuel  odometer transmission drive    type  \\\n",
       "31  excellent  6 cylinders  gas  128000.0    automatic   rwd   truck   \n",
       "32       good  8 cylinders  gas   68696.0        other   4wd  pickup   \n",
       "33       good  6 cylinders  gas   29499.0        other   4wd  pickup   \n",
       "34  excellent  6 cylinders  gas   43000.0    automatic   4wd   truck   \n",
       "35       good  6 cylinders  gas   17302.0        other   4wd  pickup   \n",
       "\n",
       "   paint_color state              posting_date  \n",
       "31       black    al  2021-05-03T14:02:03-0500  \n",
       "32       black    al  2021-05-03T13:41:25-0500  \n",
       "33      silver    al  2021-05-03T12:41:33-0500  \n",
       "34        grey    al  2021-05-03T12:12:59-0500  \n",
       "35         red    al  2021-05-03T11:31:14-0500  "
      ]
     },
     "execution_count": 27,
     "metadata": {},
     "output_type": "execute_result"
    }
   ],
   "source": [
    "car_df.head()"
   ]
  },
  {
   "cell_type": "code",
   "execution_count": 29,
   "id": "f9c92183-d747-4692-8bfa-70f3f4682730",
   "metadata": {},
   "outputs": [
    {
     "data": {
      "text/plain": [
       "state\n",
       "ca    12743\n",
       "fl     8145\n",
       "ny     6506\n",
       "tx     5716\n",
       "oh     5477\n",
       "mi     4387\n",
       "nc     4353\n",
       "pa     4230\n",
       "wi     3766\n",
       "va     2988\n",
       "or     2984\n",
       "ia     2930\n",
       "ma     2882\n",
       "nj     2851\n",
       "tn     2781\n",
       "mn     2658\n",
       "il     2640\n",
       "co     2449\n",
       "az     2282\n",
       "ok     2221\n",
       "in     2119\n",
       "ks     2008\n",
       "id     1805\n",
       "sc     1783\n",
       "ct     1632\n",
       "ga     1627\n",
       "wa     1531\n",
       "ky     1507\n",
       "vt     1390\n",
       "al     1322\n",
       "mo     1282\n",
       "nm     1199\n",
       "mt     1164\n",
       "md     1063\n",
       "ar      990\n",
       "ak      911\n",
       "me      830\n",
       "nh      822\n",
       "ri      813\n",
       "dc      756\n",
       "nv      734\n",
       "la      692\n",
       "hi      593\n",
       "sd      404\n",
       "de      355\n",
       "ms      344\n",
       "ne      338\n",
       "ut      303\n",
       "wv      267\n",
       "nd      226\n",
       "wy      189\n",
       "Name: count, dtype: int64"
      ]
     },
     "execution_count": 29,
     "metadata": {},
     "output_type": "execute_result"
    }
   ],
   "source": [
    "car_df[\"state\"].value_counts()"
   ]
  },
  {
   "cell_type": "code",
   "execution_count": null,
   "id": "7e6a2d22-1e3c-4a9a-8252-f5ed8a063877",
   "metadata": {},
   "outputs": [],
   "source": []
  }
 ],
 "metadata": {
  "kernelspec": {
   "display_name": "Python 3 (ipykernel)",
   "language": "python",
   "name": "python3"
  },
  "language_info": {
   "codemirror_mode": {
    "name": "ipython",
    "version": 3
   },
   "file_extension": ".py",
   "mimetype": "text/x-python",
   "name": "python",
   "nbconvert_exporter": "python",
   "pygments_lexer": "ipython3",
   "version": "3.10.12"
  }
 },
 "nbformat": 4,
 "nbformat_minor": 5
}
